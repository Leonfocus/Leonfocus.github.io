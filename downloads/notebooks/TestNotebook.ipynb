{
 "metadata": {
  "name": "TestNotebook"
 },
 "nbformat": 3,
 "nbformat_minor": 0,
 "worksheets": [
  {
   "cells": [
    {
     "cell_type": "heading",
     "level": 2,
     "metadata": {},
     "source": [
      "This Is An IPython Notebook"
     ]
    },
    {
     "cell_type": "markdown",
     "metadata": {},
     "source": [
      "Here is some code:"
     ]
    },
    {
     "cell_type": "code",
     "collapsed": false,
     "input": [
      "import numpy\n",
      "print numpy.random.random(10)"
     ],
     "language": "python",
     "metadata": {},
     "outputs": [
      {
       "output_type": "stream",
       "stream": "stdout",
       "text": [
        "[ 0.25463203  0.55637185  0.02743774  0.57380221  0.52378531  0.95099357\n",
        "  0.70975568  0.19575853  0.589227    0.06959599]\n"
       ]
      }
     ],
     "prompt_number": 1
    },
    {
     "cell_type": "markdown",
     "metadata": {},
     "source": [
      "Here is some math:\n",
      "\n",
      "$$e^{i\\pi} + 1 = 0$$"
     ]
    }
   ],
   "metadata": {}
  }
 ]
}